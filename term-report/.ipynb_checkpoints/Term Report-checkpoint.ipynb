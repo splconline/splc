{
 "cells": [
  {
   "cell_type": "code",
   "execution_count": 2,
   "id": "53bb4d13",
   "metadata": {},
   "outputs": [],
   "source": [
    "import pandas as pd\n",
    "from pathlib import Path"
   ]
  },
  {
   "cell_type": "code",
   "execution_count": 3,
   "id": "f008dd4a",
   "metadata": {},
   "outputs": [],
   "source": [
    "input_file = Path.cwd()/'data'/'raw'/'course_income.csv'"
   ]
  },
  {
   "cell_type": "code",
   "execution_count": 4,
   "id": "3be22ff9",
   "metadata": {},
   "outputs": [],
   "source": [
    "df = pd.read_csv(input_file)"
   ]
  },
  {
   "cell_type": "code",
   "execution_count": 5,
   "id": "9cd3297e",
   "metadata": {},
   "outputs": [
    {
     "data": {
      "text/html": [
       "<div>\n",
       "<style scoped>\n",
       "    .dataframe tbody tr th:only-of-type {\n",
       "        vertical-align: middle;\n",
       "    }\n",
       "\n",
       "    .dataframe tbody tr th {\n",
       "        vertical-align: top;\n",
       "    }\n",
       "\n",
       "    .dataframe thead th {\n",
       "        text-align: right;\n",
       "    }\n",
       "</style>\n",
       "<table border=\"1\" class=\"dataframe\">\n",
       "  <thead>\n",
       "    <tr style=\"text-align: right;\">\n",
       "      <th></th>\n",
       "      <th>Course</th>\n",
       "      <th>Code</th>\n",
       "      <th>First Session</th>\n",
       "      <th>Day</th>\n",
       "      <th>Start</th>\n",
       "      <th>Sessions</th>\n",
       "      <th>Tot-Stus</th>\n",
       "      <th>Concession-Stus</th>\n",
       "      <th>CM Fee</th>\n",
       "      <th>Operating Fee</th>\n",
       "      <th>Concession Fee</th>\n",
       "      <th>Total Income</th>\n",
       "    </tr>\n",
       "  </thead>\n",
       "  <tbody>\n",
       "    <tr>\n",
       "      <th>0</th>\n",
       "      <td>Yoga - Autumn Break</td>\n",
       "      <td>AB11</td>\n",
       "      <td>4-Apr-2023 4:15pm</td>\n",
       "      <td>Tue</td>\n",
       "      <td>4:15pm</td>\n",
       "      <td>3</td>\n",
       "      <td>3</td>\n",
       "      <td>0</td>\n",
       "      <td>$4.05</td>\n",
       "      <td>$90.00</td>\n",
       "      <td>$0.00</td>\n",
       "      <td>$165.00</td>\n",
       "    </tr>\n",
       "    <tr>\n",
       "      <th>1</th>\n",
       "      <td>Botanical Ink Drawing for Beginners One Day Wo...</td>\n",
       "      <td>AB19</td>\n",
       "      <td>14-Apr-2023 9:00am</td>\n",
       "      <td>Fri</td>\n",
       "      <td>9:00am</td>\n",
       "      <td>1</td>\n",
       "      <td>5</td>\n",
       "      <td>0</td>\n",
       "      <td>$2.25</td>\n",
       "      <td>$300.00</td>\n",
       "      <td>$0.00</td>\n",
       "      <td>$800.00</td>\n",
       "    </tr>\n",
       "    <tr>\n",
       "      <th>2</th>\n",
       "      <td>Workshop: The Art of Découpage</td>\n",
       "      <td>AB20</td>\n",
       "      <td>12-Apr-2023 10:30am</td>\n",
       "      <td>Wed</td>\n",
       "      <td>10:30am</td>\n",
       "      <td>1</td>\n",
       "      <td>4</td>\n",
       "      <td>0</td>\n",
       "      <td>$1.80</td>\n",
       "      <td>$105.00</td>\n",
       "      <td>$0.00</td>\n",
       "      <td>$300.00</td>\n",
       "    </tr>\n",
       "    <tr>\n",
       "      <th>3</th>\n",
       "      <td>Spanish Conversation Club - Beginners</td>\n",
       "      <td>AB21a</td>\n",
       "      <td>6-Apr-2023 10:00am</td>\n",
       "      <td>Thu</td>\n",
       "      <td>10:00am</td>\n",
       "      <td>4</td>\n",
       "      <td>3</td>\n",
       "      <td>0</td>\n",
       "      <td>$5.40</td>\n",
       "      <td>$0.00</td>\n",
       "      <td>$0.00</td>\n",
       "      <td>$120.00</td>\n",
       "    </tr>\n",
       "    <tr>\n",
       "      <th>4</th>\n",
       "      <td>Spanish Conversation Club - Intermediate</td>\n",
       "      <td>AB21b</td>\n",
       "      <td>6-Apr-2023 11:00am</td>\n",
       "      <td>Thu</td>\n",
       "      <td>11:00am</td>\n",
       "      <td>4</td>\n",
       "      <td>3</td>\n",
       "      <td>0</td>\n",
       "      <td>$5.40</td>\n",
       "      <td>$0.00</td>\n",
       "      <td>$0.00</td>\n",
       "      <td>$120.00</td>\n",
       "    </tr>\n",
       "    <tr>\n",
       "      <th>...</th>\n",
       "      <td>...</td>\n",
       "      <td>...</td>\n",
       "      <td>...</td>\n",
       "      <td>...</td>\n",
       "      <td>...</td>\n",
       "      <td>...</td>\n",
       "      <td>...</td>\n",
       "      <td>...</td>\n",
       "      <td>...</td>\n",
       "      <td>...</td>\n",
       "      <td>...</td>\n",
       "      <td>...</td>\n",
       "    </tr>\n",
       "    <tr>\n",
       "      <th>76</th>\n",
       "      <td>Cryptic Crosswords Friday Club</td>\n",
       "      <td>SC30</td>\n",
       "      <td>5-May-2023 9:30am</td>\n",
       "      <td>Fri</td>\n",
       "      <td>9:30am</td>\n",
       "      <td>8</td>\n",
       "      <td>4</td>\n",
       "      <td>0</td>\n",
       "      <td>$14.40</td>\n",
       "      <td>$0.00</td>\n",
       "      <td>$0.00</td>\n",
       "      <td>$220.00</td>\n",
       "    </tr>\n",
       "    <tr>\n",
       "      <th>77</th>\n",
       "      <td>WA Mahjong 1-day Festival - mahjongwa.org.au</td>\n",
       "      <td>SC32</td>\n",
       "      <td>15-Apr-2023 9:00am</td>\n",
       "      <td>Sat</td>\n",
       "      <td>9:00am</td>\n",
       "      <td>1</td>\n",
       "      <td>96</td>\n",
       "      <td>1</td>\n",
       "      <td>$21.70</td>\n",
       "      <td>$0.00</td>\n",
       "      <td>$0.00</td>\n",
       "      <td>$1,940.00</td>\n",
       "    </tr>\n",
       "    <tr>\n",
       "      <th>78</th>\n",
       "      <td>SPLC Current Affairs Discussion Group</td>\n",
       "      <td>SC33</td>\n",
       "      <td>1-May-2023 2:15pm</td>\n",
       "      <td>Mon</td>\n",
       "      <td>2:15pm</td>\n",
       "      <td>8</td>\n",
       "      <td>11</td>\n",
       "      <td>0</td>\n",
       "      <td>$37.60</td>\n",
       "      <td>$0.00</td>\n",
       "      <td>$0.00</td>\n",
       "      <td>$660.00</td>\n",
       "    </tr>\n",
       "    <tr>\n",
       "      <th>79</th>\n",
       "      <td>St John WA Automated External Defibrillator (A...</td>\n",
       "      <td>T38</td>\n",
       "      <td>14-Jun-2023 3:00pm</td>\n",
       "      <td>Wed</td>\n",
       "      <td>3:00pm</td>\n",
       "      <td>1</td>\n",
       "      <td>15</td>\n",
       "      <td>0</td>\n",
       "      <td>$5.50</td>\n",
       "      <td>$240.00</td>\n",
       "      <td>$0.00</td>\n",
       "      <td>$0.00</td>\n",
       "    </tr>\n",
       "    <tr>\n",
       "      <th>80</th>\n",
       "      <td>NaN</td>\n",
       "      <td>NaN</td>\n",
       "      <td>NaN</td>\n",
       "      <td>NaN</td>\n",
       "      <td>NaN</td>\n",
       "      <td>405</td>\n",
       "      <td>481</td>\n",
       "      <td>34</td>\n",
       "      <td>$1,034.05</td>\n",
       "      <td>22995</td>\n",
       "      <td>$0.00</td>\n",
       "      <td>$39,830.08</td>\n",
       "    </tr>\n",
       "  </tbody>\n",
       "</table>\n",
       "<p>81 rows × 12 columns</p>\n",
       "</div>"
      ],
      "text/plain": [
       "                                               Course   Code  \\\n",
       "0                                 Yoga - Autumn Break   AB11   \n",
       "1   Botanical Ink Drawing for Beginners One Day Wo...   AB19   \n",
       "2                      Workshop: The Art of Découpage   AB20   \n",
       "3               Spanish Conversation Club - Beginners  AB21a   \n",
       "4            Spanish Conversation Club - Intermediate  AB21b   \n",
       "..                                                ...    ...   \n",
       "76                     Cryptic Crosswords Friday Club   SC30   \n",
       "77       WA Mahjong 1-day Festival - mahjongwa.org.au   SC32   \n",
       "78              SPLC Current Affairs Discussion Group   SC33   \n",
       "79  St John WA Automated External Defibrillator (A...    T38   \n",
       "80                                                NaN    NaN   \n",
       "\n",
       "          First Session  Day    Start  Sessions  Tot-Stus  Concession-Stus  \\\n",
       "0     4-Apr-2023 4:15pm  Tue   4:15pm         3         3                0   \n",
       "1    14-Apr-2023 9:00am  Fri   9:00am         1         5                0   \n",
       "2   12-Apr-2023 10:30am  Wed  10:30am         1         4                0   \n",
       "3    6-Apr-2023 10:00am  Thu  10:00am         4         3                0   \n",
       "4    6-Apr-2023 11:00am  Thu  11:00am         4         3                0   \n",
       "..                  ...  ...      ...       ...       ...              ...   \n",
       "76    5-May-2023 9:30am  Fri   9:30am         8         4                0   \n",
       "77   15-Apr-2023 9:00am  Sat   9:00am         1        96                1   \n",
       "78    1-May-2023 2:15pm  Mon   2:15pm         8        11                0   \n",
       "79   14-Jun-2023 3:00pm  Wed   3:00pm         1        15                0   \n",
       "80                  NaN  NaN      NaN       405       481               34   \n",
       "\n",
       "       CM Fee Operating Fee Concession Fee Total Income  \n",
       "0       $4.05        $90.00          $0.00      $165.00  \n",
       "1       $2.25       $300.00          $0.00      $800.00  \n",
       "2       $1.80       $105.00          $0.00      $300.00  \n",
       "3       $5.40         $0.00          $0.00      $120.00  \n",
       "4       $5.40         $0.00          $0.00      $120.00  \n",
       "..        ...           ...            ...          ...  \n",
       "76     $14.40         $0.00          $0.00      $220.00  \n",
       "77     $21.70         $0.00          $0.00    $1,940.00  \n",
       "78     $37.60         $0.00          $0.00      $660.00  \n",
       "79      $5.50       $240.00          $0.00        $0.00  \n",
       "80  $1,034.05         22995          $0.00   $39,830.08  \n",
       "\n",
       "[81 rows x 12 columns]"
      ]
     },
     "execution_count": 5,
     "metadata": {},
     "output_type": "execute_result"
    }
   ],
   "source": [
    "df"
   ]
  },
  {
   "cell_type": "markdown",
   "id": "a2322258",
   "metadata": {},
   "source": [
    "## Lose the unwanted columns"
   ]
  },
  {
   "cell_type": "code",
   "execution_count": 6,
   "id": "55a03957",
   "metadata": {},
   "outputs": [
    {
     "ename": "KeyError",
     "evalue": "\"['Materials'] not found in axis\"",
     "output_type": "error",
     "traceback": [
      "\u001b[0;31m---------------------------------------------------------------------------\u001b[0m",
      "\u001b[0;31mKeyError\u001b[0m                                  Traceback (most recent call last)",
      "\u001b[0;32m<ipython-input-6-0d20af7201df>\u001b[0m in \u001b[0;36m<module>\u001b[0;34m\u001b[0m\n\u001b[0;32m----> 1\u001b[0;31m \u001b[0mdf\u001b[0m\u001b[0;34m.\u001b[0m\u001b[0mdrop\u001b[0m\u001b[0;34m(\u001b[0m\u001b[0;34m[\u001b[0m\u001b[0;34m'Day'\u001b[0m\u001b[0;34m,\u001b[0m\u001b[0;34m'Start'\u001b[0m\u001b[0;34m,\u001b[0m\u001b[0;34m'Concession-Stus'\u001b[0m\u001b[0;34m,\u001b[0m\u001b[0;34m'CM Fee'\u001b[0m\u001b[0;34m,\u001b[0m\u001b[0;34m'Concession Fee'\u001b[0m\u001b[0;34m,\u001b[0m \u001b[0;34m'Materials'\u001b[0m\u001b[0;34m]\u001b[0m\u001b[0;34m,\u001b[0m \u001b[0maxis\u001b[0m\u001b[0;34m=\u001b[0m\u001b[0;36m1\u001b[0m\u001b[0;34m,\u001b[0m \u001b[0minplace\u001b[0m\u001b[0;34m=\u001b[0m\u001b[0;32mTrue\u001b[0m\u001b[0;34m)\u001b[0m\u001b[0;34m\u001b[0m\u001b[0;34m\u001b[0m\u001b[0m\n\u001b[0m",
      "\u001b[0;32m~/miniconda3/lib/python3.8/site-packages/pandas/core/frame.py\u001b[0m in \u001b[0;36mdrop\u001b[0;34m(self, labels, axis, index, columns, level, inplace, errors)\u001b[0m\n\u001b[1;32m   4306\u001b[0m                 \u001b[0mweight\u001b[0m  \u001b[0;36m1.0\u001b[0m     \u001b[0;36m0.8\u001b[0m\u001b[0;34m\u001b[0m\u001b[0;34m\u001b[0m\u001b[0m\n\u001b[1;32m   4307\u001b[0m         \"\"\"\n\u001b[0;32m-> 4308\u001b[0;31m         return super().drop(\n\u001b[0m\u001b[1;32m   4309\u001b[0m             \u001b[0mlabels\u001b[0m\u001b[0;34m=\u001b[0m\u001b[0mlabels\u001b[0m\u001b[0;34m,\u001b[0m\u001b[0;34m\u001b[0m\u001b[0;34m\u001b[0m\u001b[0m\n\u001b[1;32m   4310\u001b[0m             \u001b[0maxis\u001b[0m\u001b[0;34m=\u001b[0m\u001b[0maxis\u001b[0m\u001b[0;34m,\u001b[0m\u001b[0;34m\u001b[0m\u001b[0;34m\u001b[0m\u001b[0m\n",
      "\u001b[0;32m~/miniconda3/lib/python3.8/site-packages/pandas/core/generic.py\u001b[0m in \u001b[0;36mdrop\u001b[0;34m(self, labels, axis, index, columns, level, inplace, errors)\u001b[0m\n\u001b[1;32m   4151\u001b[0m         \u001b[0;32mfor\u001b[0m \u001b[0maxis\u001b[0m\u001b[0;34m,\u001b[0m \u001b[0mlabels\u001b[0m \u001b[0;32min\u001b[0m \u001b[0maxes\u001b[0m\u001b[0;34m.\u001b[0m\u001b[0mitems\u001b[0m\u001b[0;34m(\u001b[0m\u001b[0;34m)\u001b[0m\u001b[0;34m:\u001b[0m\u001b[0;34m\u001b[0m\u001b[0;34m\u001b[0m\u001b[0m\n\u001b[1;32m   4152\u001b[0m             \u001b[0;32mif\u001b[0m \u001b[0mlabels\u001b[0m \u001b[0;32mis\u001b[0m \u001b[0;32mnot\u001b[0m \u001b[0;32mNone\u001b[0m\u001b[0;34m:\u001b[0m\u001b[0;34m\u001b[0m\u001b[0;34m\u001b[0m\u001b[0m\n\u001b[0;32m-> 4153\u001b[0;31m                 \u001b[0mobj\u001b[0m \u001b[0;34m=\u001b[0m \u001b[0mobj\u001b[0m\u001b[0;34m.\u001b[0m\u001b[0m_drop_axis\u001b[0m\u001b[0;34m(\u001b[0m\u001b[0mlabels\u001b[0m\u001b[0;34m,\u001b[0m \u001b[0maxis\u001b[0m\u001b[0;34m,\u001b[0m \u001b[0mlevel\u001b[0m\u001b[0;34m=\u001b[0m\u001b[0mlevel\u001b[0m\u001b[0;34m,\u001b[0m \u001b[0merrors\u001b[0m\u001b[0;34m=\u001b[0m\u001b[0merrors\u001b[0m\u001b[0;34m)\u001b[0m\u001b[0;34m\u001b[0m\u001b[0;34m\u001b[0m\u001b[0m\n\u001b[0m\u001b[1;32m   4154\u001b[0m \u001b[0;34m\u001b[0m\u001b[0m\n\u001b[1;32m   4155\u001b[0m         \u001b[0;32mif\u001b[0m \u001b[0minplace\u001b[0m\u001b[0;34m:\u001b[0m\u001b[0;34m\u001b[0m\u001b[0;34m\u001b[0m\u001b[0m\n",
      "\u001b[0;32m~/miniconda3/lib/python3.8/site-packages/pandas/core/generic.py\u001b[0m in \u001b[0;36m_drop_axis\u001b[0;34m(self, labels, axis, level, errors)\u001b[0m\n\u001b[1;32m   4186\u001b[0m                 \u001b[0mnew_axis\u001b[0m \u001b[0;34m=\u001b[0m \u001b[0maxis\u001b[0m\u001b[0;34m.\u001b[0m\u001b[0mdrop\u001b[0m\u001b[0;34m(\u001b[0m\u001b[0mlabels\u001b[0m\u001b[0;34m,\u001b[0m \u001b[0mlevel\u001b[0m\u001b[0;34m=\u001b[0m\u001b[0mlevel\u001b[0m\u001b[0;34m,\u001b[0m \u001b[0merrors\u001b[0m\u001b[0;34m=\u001b[0m\u001b[0merrors\u001b[0m\u001b[0;34m)\u001b[0m\u001b[0;34m\u001b[0m\u001b[0;34m\u001b[0m\u001b[0m\n\u001b[1;32m   4187\u001b[0m             \u001b[0;32melse\u001b[0m\u001b[0;34m:\u001b[0m\u001b[0;34m\u001b[0m\u001b[0;34m\u001b[0m\u001b[0m\n\u001b[0;32m-> 4188\u001b[0;31m                 \u001b[0mnew_axis\u001b[0m \u001b[0;34m=\u001b[0m \u001b[0maxis\u001b[0m\u001b[0;34m.\u001b[0m\u001b[0mdrop\u001b[0m\u001b[0;34m(\u001b[0m\u001b[0mlabels\u001b[0m\u001b[0;34m,\u001b[0m \u001b[0merrors\u001b[0m\u001b[0;34m=\u001b[0m\u001b[0merrors\u001b[0m\u001b[0;34m)\u001b[0m\u001b[0;34m\u001b[0m\u001b[0;34m\u001b[0m\u001b[0m\n\u001b[0m\u001b[1;32m   4189\u001b[0m             \u001b[0mresult\u001b[0m \u001b[0;34m=\u001b[0m \u001b[0mself\u001b[0m\u001b[0;34m.\u001b[0m\u001b[0mreindex\u001b[0m\u001b[0;34m(\u001b[0m\u001b[0;34m**\u001b[0m\u001b[0;34m{\u001b[0m\u001b[0maxis_name\u001b[0m\u001b[0;34m:\u001b[0m \u001b[0mnew_axis\u001b[0m\u001b[0;34m}\u001b[0m\u001b[0;34m)\u001b[0m\u001b[0;34m\u001b[0m\u001b[0;34m\u001b[0m\u001b[0m\n\u001b[1;32m   4190\u001b[0m \u001b[0;34m\u001b[0m\u001b[0m\n",
      "\u001b[0;32m~/miniconda3/lib/python3.8/site-packages/pandas/core/indexes/base.py\u001b[0m in \u001b[0;36mdrop\u001b[0;34m(self, labels, errors)\u001b[0m\n\u001b[1;32m   5589\u001b[0m         \u001b[0;32mif\u001b[0m \u001b[0mmask\u001b[0m\u001b[0;34m.\u001b[0m\u001b[0many\u001b[0m\u001b[0;34m(\u001b[0m\u001b[0;34m)\u001b[0m\u001b[0;34m:\u001b[0m\u001b[0;34m\u001b[0m\u001b[0;34m\u001b[0m\u001b[0m\n\u001b[1;32m   5590\u001b[0m             \u001b[0;32mif\u001b[0m \u001b[0merrors\u001b[0m \u001b[0;34m!=\u001b[0m \u001b[0;34m\"ignore\"\u001b[0m\u001b[0;34m:\u001b[0m\u001b[0;34m\u001b[0m\u001b[0;34m\u001b[0m\u001b[0m\n\u001b[0;32m-> 5591\u001b[0;31m                 \u001b[0;32mraise\u001b[0m \u001b[0mKeyError\u001b[0m\u001b[0;34m(\u001b[0m\u001b[0;34mf\"{labels[mask]} not found in axis\"\u001b[0m\u001b[0;34m)\u001b[0m\u001b[0;34m\u001b[0m\u001b[0;34m\u001b[0m\u001b[0m\n\u001b[0m\u001b[1;32m   5592\u001b[0m             \u001b[0mindexer\u001b[0m \u001b[0;34m=\u001b[0m \u001b[0mindexer\u001b[0m\u001b[0;34m[\u001b[0m\u001b[0;34m~\u001b[0m\u001b[0mmask\u001b[0m\u001b[0;34m]\u001b[0m\u001b[0;34m\u001b[0m\u001b[0;34m\u001b[0m\u001b[0m\n\u001b[1;32m   5593\u001b[0m         \u001b[0;32mreturn\u001b[0m \u001b[0mself\u001b[0m\u001b[0;34m.\u001b[0m\u001b[0mdelete\u001b[0m\u001b[0;34m(\u001b[0m\u001b[0mindexer\u001b[0m\u001b[0;34m)\u001b[0m\u001b[0;34m\u001b[0m\u001b[0;34m\u001b[0m\u001b[0m\n",
      "\u001b[0;31mKeyError\u001b[0m: \"['Materials'] not found in axis\""
     ]
    }
   ],
   "source": [
    "df.drop(['Day','Start','Concession-Stus','CM Fee','Concession Fee'], axis=1, inplace=True)"
   ]
  },
  {
   "cell_type": "markdown",
   "id": "9d830475",
   "metadata": {},
   "source": [
    "## Remove the dollar sign and comma from e.g. $1,500"
   ]
  },
  {
   "cell_type": "code",
   "execution_count": null,
   "id": "5ce3af5d",
   "metadata": {},
   "outputs": [],
   "source": [
    "df['Total Income']=df['Total Income'].str.lstrip('$')\n",
    "df['Operating Fee']=df['Operating Fee'].str.lstrip('$')\n",
    "df['Total Income']=df['Total Income'].str.replace(',','')\n",
    "df['Operating Fee']=df['Operating Fee'].str.replace(',','')"
   ]
  },
  {
   "cell_type": "markdown",
   "id": "57b2b8ec",
   "metadata": {},
   "source": [
    "## Change the strings to numeric"
   ]
  },
  {
   "cell_type": "code",
   "execution_count": null,
   "id": "82c1802c",
   "metadata": {},
   "outputs": [],
   "source": [
    "df['Total Income']=df['Total Income'].str.lstrip('$')\n",
    "df['Operating Fee']=df['Operating Fee'].str.lstrip('$')\n",
    "df['Total Income']=df['Total Income'].str.replace(',','')\n",
    "df['Operating Fee']=df['Operating Fee'].str.replace(',','')\n",
    "df['Total Income']=pd.to_numeric(df['Total Income'])\n",
    "df['Operating Fee']=pd.to_numeric(df['Operating Fee'])"
   ]
  },
  {
   "cell_type": "markdown",
   "id": "cdd3a61a",
   "metadata": {},
   "source": [
    "## Calculate and add the Profit column"
   ]
  },
  {
   "cell_type": "code",
   "execution_count": null,
   "id": "c2850d34",
   "metadata": {},
   "outputs": [],
   "source": [
    "df['Profit']=df['Total Income']-df['Operating Fee']"
   ]
  },
  {
   "cell_type": "markdown",
   "id": "ac439666",
   "metadata": {},
   "source": [
    "## Sort by Profit"
   ]
  },
  {
   "cell_type": "code",
   "execution_count": null,
   "id": "554b115d",
   "metadata": {},
   "outputs": [],
   "source": [
    "df = df.sort_values('Profit', ascending=False)"
   ]
  },
  {
   "cell_type": "code",
   "execution_count": null,
   "id": "b191a2be",
   "metadata": {},
   "outputs": [],
   "source": [
    "df"
   ]
  },
  {
   "cell_type": "code",
   "execution_count": null,
   "id": "9ae6418d",
   "metadata": {},
   "outputs": [],
   "source": [
    "df = df[[\"Course\",\"Code\",\"First Session\",\"Sessions\",\"Tot-Stus\",\"Total Income\",\"Operating Fee\",\"Profit\"]]"
   ]
  },
  {
   "cell_type": "code",
   "execution_count": null,
   "id": "cfd2b4cc",
   "metadata": {},
   "outputs": [],
   "source": [
    "df"
   ]
  },
  {
   "cell_type": "code",
   "execution_count": null,
   "id": "d7699c0b",
   "metadata": {},
   "outputs": [],
   "source": [
    "df.to_csv('hurrah.csv',index=False)"
   ]
  },
  {
   "cell_type": "code",
   "execution_count": null,
   "id": "14dd69bb",
   "metadata": {},
   "outputs": [],
   "source": []
  }
 ],
 "metadata": {
  "kernelspec": {
   "display_name": "Python 3",
   "language": "python",
   "name": "python3"
  },
  "language_info": {
   "codemirror_mode": {
    "name": "ipython",
    "version": 3
   },
   "file_extension": ".py",
   "mimetype": "text/x-python",
   "name": "python",
   "nbconvert_exporter": "python",
   "pygments_lexer": "ipython3",
   "version": "3.8.5"
  }
 },
 "nbformat": 4,
 "nbformat_minor": 5
}
